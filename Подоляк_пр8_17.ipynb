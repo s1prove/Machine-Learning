{
  "nbformat": 4,
  "nbformat_minor": 0,
  "metadata": {
    "colab": {
      "provenance": []
    },
    "kernelspec": {
      "name": "python3",
      "display_name": "Python 3"
    },
    "language_info": {
      "name": "python"
    }
  },
  "cells": [
    {
      "cell_type": "code",
      "execution_count": 1,
      "metadata": {
        "colab": {
          "base_uri": "https://localhost:8080/"
        },
        "id": "ym65gRDDOAPZ",
        "outputId": "abdffdb9-d14d-4c6a-c368-9d1ef71a0a7c"
      },
      "outputs": [
        {
          "output_type": "stream",
          "name": "stdout",
          "text": [
            "Requirement already satisfied: surprise in /usr/local/lib/python3.10/dist-packages (0.1)\n",
            "Requirement already satisfied: scikit-surprise in /usr/local/lib/python3.10/dist-packages (from surprise) (1.1.3)\n",
            "Requirement already satisfied: joblib>=1.0.0 in /usr/local/lib/python3.10/dist-packages (from scikit-surprise->surprise) (1.3.2)\n",
            "Requirement already satisfied: numpy>=1.17.3 in /usr/local/lib/python3.10/dist-packages (from scikit-surprise->surprise) (1.23.5)\n",
            "Requirement already satisfied: scipy>=1.3.2 in /usr/local/lib/python3.10/dist-packages (from scikit-surprise->surprise) (1.11.3)\n"
          ]
        }
      ],
      "source": [
        "pip install surprise"
      ]
    },
    {
      "cell_type": "code",
      "source": [
        "from surprise import Dataset, Reader, SVD, SVDpp, NMF, KNNBasic, KNNBaseline\n",
        "from surprise.model_selection import cross_validate\n",
        "import matplotlib.pyplot as plt"
      ],
      "metadata": {
        "id": "JDixZrdBOHNA"
      },
      "execution_count": 2,
      "outputs": []
    },
    {
      "cell_type": "code",
      "source": [
        "#Load Movielens-100k dataset\n",
        "data = Dataset.load_builtin('ml-100k')"
      ],
      "metadata": {
        "id": "_0tvzXX3PJA4"
      },
      "execution_count": 3,
      "outputs": []
    },
    {
      "cell_type": "code",
      "source": [
        "#Variables for algorithms\n",
        "algo_svd = SVD()\n",
        "algo_svdpp = SVDpp()\n",
        "algo_nmf = NMF()\n",
        "algo_knnbasic = KNNBasic()\n",
        "algo_knnbaseline = KNNBaseline()"
      ],
      "metadata": {
        "id": "yPbHdOQkQpDY"
      },
      "execution_count": 4,
      "outputs": []
    },
    {
      "cell_type": "code",
      "source": [
        "#Cross-validation\n",
        "cv_svd = cross_validate(algo_svd, data, measures=[\"rmse\"], cv=4, verbose=True)\n",
        "cv_svdpp = cross_validate(algo_svdpp, data, measures=[\"rmse\"], cv=4, verbose=True)\n",
        "cv_nmf = cross_validate(algo_nmf, data, measures=[\"rmse\"], cv=4, verbose=True)\n",
        "cv_knnbasic = cross_validate(algo_knnbasic, data, measures=[\"rmse\"], cv=4, verbose=True)\n",
        "cv_knnbaseline = cross_validate(algo_knnbaseline, data, measures=[\"rmse\"], cv=4, verbose=True)"
      ],
      "metadata": {
        "colab": {
          "base_uri": "https://localhost:8080/"
        },
        "id": "RZmG2AC_Q_Eb",
        "outputId": "f76bea26-3729-4d37-bce3-9bdb10bec9ee"
      },
      "execution_count": 5,
      "outputs": [
        {
          "output_type": "stream",
          "name": "stdout",
          "text": [
            "Evaluating RMSE of algorithm SVD on 4 split(s).\n",
            "\n",
            "                  Fold 1  Fold 2  Fold 3  Fold 4  Mean    Std     \n",
            "RMSE (testset)    0.9337  0.9424  0.9328  0.9481  0.9393  0.0063  \n",
            "Fit time          1.57    1.62    3.28    3.04    2.38    0.79    \n",
            "Test time         0.27    0.43    0.89    0.41    0.50    0.23    \n",
            "Evaluating RMSE of algorithm SVDpp on 4 split(s).\n",
            "\n",
            "                  Fold 1  Fold 2  Fold 3  Fold 4  Mean    Std     \n",
            "RMSE (testset)    0.9176  0.9264  0.9191  0.9230  0.9215  0.0035  \n",
            "Fit time          26.47   23.49   23.60   24.63   24.55   1.20    \n",
            "Test time         5.46    6.22    5.23    6.07    5.74    0.41    \n",
            "Evaluating RMSE of algorithm NMF on 4 split(s).\n",
            "\n",
            "                  Fold 1  Fold 2  Fold 3  Fold 4  Mean    Std     \n",
            "RMSE (testset)    0.9626  0.9681  0.9665  0.9710  0.9671  0.0030  \n",
            "Fit time          2.05    2.04    2.02    2.04    2.04    0.01    \n",
            "Test time         0.24    0.13    0.20    0.23    0.20    0.04    \n",
            "Computing the msd similarity matrix...\n",
            "Done computing similarity matrix.\n",
            "Computing the msd similarity matrix...\n",
            "Done computing similarity matrix.\n",
            "Computing the msd similarity matrix...\n",
            "Done computing similarity matrix.\n",
            "Computing the msd similarity matrix...\n",
            "Done computing similarity matrix.\n",
            "Evaluating RMSE of algorithm KNNBasic on 4 split(s).\n",
            "\n",
            "                  Fold 1  Fold 2  Fold 3  Fold 4  Mean    Std     \n",
            "RMSE (testset)    0.9842  0.9756  0.9889  0.9805  0.9823  0.0049  \n",
            "Fit time          0.44    0.37    0.36    0.35    0.38    0.04    \n",
            "Test time         4.71    3.80    4.88    3.82    4.30    0.50    \n",
            "Estimating biases using als...\n",
            "Computing the msd similarity matrix...\n",
            "Done computing similarity matrix.\n",
            "Estimating biases using als...\n",
            "Computing the msd similarity matrix...\n",
            "Done computing similarity matrix.\n",
            "Estimating biases using als...\n",
            "Computing the msd similarity matrix...\n",
            "Done computing similarity matrix.\n",
            "Estimating biases using als...\n",
            "Computing the msd similarity matrix...\n",
            "Done computing similarity matrix.\n",
            "Evaluating RMSE of algorithm KNNBaseline on 4 split(s).\n",
            "\n",
            "                  Fold 1  Fold 2  Fold 3  Fold 4  Mean    Std     \n",
            "RMSE (testset)    0.9383  0.9360  0.9289  0.9254  0.9321  0.0052  \n",
            "Fit time          0.62    0.77    0.67    0.64    0.67    0.06    \n",
            "Test time         4.40    5.11    4.34    5.43    4.82    0.46    \n"
          ]
        }
      ]
    },
    {
      "cell_type": "code",
      "source": [
        "#Find mean of RMSE\n",
        "rmse_svd = cv_svd['test_rmse'].mean()\n",
        "rmse_svdpp = cv_svdpp['test_rmse'].mean()\n",
        "rmse_nmf = cv_nmf['test_rmse'].mean()\n",
        "rmse_knnbasic = cv_knnbasic['test_rmse'].mean()\n",
        "rmse_knnbaseline = cv_knnbaseline['test_rmse'].mean()\n",
        "\n",
        "print(f\"SVD = {rmse_svd}\")\n",
        "print(f\"SVDpp = {rmse_svdpp}\")\n",
        "print(f\"NMF = {rmse_nmf}\")\n",
        "print(f\"KNNBasic = {rmse_knnbasic}\")\n",
        "print(f\"KNNBaseline = {rmse_knnbaseline}\")"
      ],
      "metadata": {
        "colab": {
          "base_uri": "https://localhost:8080/"
        },
        "id": "Cbj4baSuRvjF",
        "outputId": "e40a0e24-2260-40d6-a629-f686a5551297"
      },
      "execution_count": 6,
      "outputs": [
        {
          "output_type": "stream",
          "name": "stdout",
          "text": [
            "SVD = 0.9392550798823808\n",
            "SVDpp = 0.9214994416492217\n",
            "NMF = 0.9670572342627\n",
            "KNNBasic = 0.9823084331770058\n",
            "KNNBaseline = 0.9321385158226478\n"
          ]
        }
      ]
    },
    {
      "cell_type": "markdown",
      "source": [
        "# **Conclusion:** Among all five means of the results the lowest RMSE has SVDpp, that means this algorithm is the most optimal for Movielens dataset."
      ],
      "metadata": {
        "id": "vU1PlAhtS-Bv"
      }
    },
    {
      "cell_type": "code",
      "source": [
        "rmse_variables = [rmse_svd, rmse_svdpp, rmse_nmf, rmse_knnbasic, rmse_knnbaseline]\n",
        "algos = [\"SVD\", \"SVDpp\", \"NMF\", \"KNNBasic\", \"KNNBaseline\"]\n",
        "plt.style.use('https://github.com/dhaitz/matplotlib-stylesheets/raw/master/pitayasmoothie-dark.mplstyle')\n",
        "plt.bar(algos, rmse_variables, color=['lightgreen', 'lightblue', 'red', 'purple', 'orange'])\n",
        "plt.title(\"Comparison table of RMSE values\")\n",
        "plt.xlabel(\"Algorithms\")\n",
        "plt.ylabel(\"RMSE Values\")\n",
        "plt.ylim(0.9, 1.0)\n",
        "plt.show()"
      ],
      "metadata": {
        "colab": {
          "base_uri": "https://localhost:8080/",
          "height": 465
        },
        "id": "27m7vgMiTiS_",
        "outputId": "899195e2-b3bb-4e87-9c1b-1fb006b5186e"
      },
      "execution_count": 7,
      "outputs": [
        {
          "output_type": "display_data",
          "data": {
            "text/plain": [
              "<Figure size 640x480 with 1 Axes>"
            ],
            "image/png": "[encoded data removed]"
          },
          "metadata": {}
        }
      ]
    },
    {
      "cell_type": "markdown",
      "source": [
        "# **Висновок:** на лабораторній роботі я навчився завантажувати датасети та алгоритми, дізнався багато нового про модулі датасетів та алгоритмів, а також знаходив середньоквадратичну похибку встановлених алгоритмів."
      ],
      "metadata": {
        "id": "P-x55nUqWdln"
      }
    }
  ]
}