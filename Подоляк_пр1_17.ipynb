{
  "metadata": {
    "language_info": {
      "codemirror_mode": {
        "name": "python",
        "version": 3
      },
      "file_extension": ".py",
      "mimetype": "text/x-python",
      "name": "python",
      "nbconvert_exporter": "python",
      "pygments_lexer": "ipython3",
      "version": "3.8"
    },
    "kernelspec": {
      "name": "python",
      "display_name": "Python (Pyodide)",
      "language": "python"
    }
  },
  "nbformat_minor": 4,
  "nbformat": 4,
  "cells": [
    {
      "cell_type": "markdown",
      "source": "Homework №1",
      "metadata": {}
    },
    {
      "cell_type": "code",
      "source": "import numpy as np",
      "metadata": {
        "trusted": true
      },
      "execution_count": 10,
      "outputs": []
    },
    {
      "cell_type": "raw",
      "source": "1. Створіть одновимірний масив (вектор) з числами, які є квадратами натуральних чисел, починаючи з 1, та виведіть його значення.",
      "metadata": {}
    },
    {
      "cell_type": "code",
      "source": "vector1 = np.arange(1, 6) ** 2\nprint(vector1)",
      "metadata": {
        "trusted": true
      },
      "execution_count": 11,
      "outputs": [
        {
          "name": "stdout",
          "text": "[ 1  4  9 16 25]\n",
          "output_type": "stream"
        }
      ]
    },
    {
      "cell_type": "raw",
      "source": "2. Створіть двовимірний масив (матрицю) розміром 3x3, заповніть його значеннями добутків найближчих менших простих чисел для кожного натурального числа, починаючи з 1, та виведіть його значення. ",
      "metadata": {}
    },
    {
      "cell_type": "code",
      "source": "matrix = np.zeros((3, 3), dtype = int)\n\nnums = [2, 3, 5, 7, 11, 13, 17, 19, 23, 29, 31]\n\ncurrent_number = 1\ncounter = 0\n\nsmall1 = 0\nsmall2 = 0\nfor i in range(3):\n    for j in range(3):\n        \n        if nums[counter] < current_number:\n            small1 = small2\n            small2 = nums[counter]\n            counter += 1\n        \n        matrix[i, j] = small2 * small1\n        current_number += 1\n        \nprint(\"Матриця:\")\nprint(matrix)",
      "metadata": {
        "trusted": true
      },
      "execution_count": 12,
      "outputs": [
        {
          "name": "stdout",
          "text": "Матриця:\n[[ 0  0  0]\n [ 6  6 15]\n [15 35 35]]\n",
          "output_type": "stream"
        }
      ]
    },
    {
      "cell_type": "raw",
      "source": "3. Створіть масив розміром 8x8, заповніть його випадковими натуральними числами від 1 до 10 та знайдіть середнє гармонічне його елементів. ",
      "metadata": {}
    },
    {
      "cell_type": "code",
      "source": "n = 8\nm = 8\n\nmatrix = np.random.randint(1, 11, (n, m))\n\nharmonic = n * m / np.sum(1 / matrix)\n\nprint(\"Matrix:\\n\", matrix)\nprint(\"\\nHarmonic:\", harmonic)",
      "metadata": {
        "trusted": true
      },
      "execution_count": 13,
      "outputs": [
        {
          "name": "stdout",
          "text": "Matrix:\n [[ 3  1  4  2  8  4  2  8]\n [ 6 10  3  2  5 10  2  2]\n [ 8  1  4  1  6  4 10  7]\n [ 7  8  4  7  8  7 10  4]\n [ 8  9  3  7  9  2  2  6]\n [ 1 10  2  3  8  7  8  2]\n [ 9  5  8  5  9  2  1  4]\n [ 3  3  9  1  7  1  9  9]]\n\nHarmonic: 3.1600603483747083\n",
          "output_type": "stream"
        }
      ]
    },
    {
      "cell_type": "raw",
      "source": "4. Створіть масив розміром 3x3, заповніть його випадковими дійсними числами в діапазоні від 0 до 10 та знайдіть вектор-стовпчик, що містить мінімальні елементи в кожному рядку. ",
      "metadata": {}
    },
    {
      "cell_type": "code",
      "source": "matrix = np.random.uniform(0, 10, (3, 3))\n\nmin_column_elems = np.min(matrix, axis = 1)\n\nprint(\"Matrix:\", matrix)\nprint(\"\\nColumn with minimum elements:\", min_column_elems)",
      "metadata": {
        "trusted": true
      },
      "execution_count": 14,
      "outputs": [
        {
          "name": "stdout",
          "text": "Matrix: [[5.49878279 8.7974876  9.29692159]\n [8.92220681 1.15223899 7.72676555]\n [4.87719375 4.1188166  5.39188971]]\n\nColumn with minimum elements: [5.49878279 1.15223899 4.1188166 ]\n",
          "output_type": "stream"
        }
      ]
    },
    {
      "cell_type": "raw",
      "source": "5. Створіть два одновимірних масиви розміром 6, заповніть їх випадковими дійсними числами від 0 до 1 та виконайте на них поелементні операції додавання, віднімання ta множення. ",
      "metadata": {}
    },
    {
      "cell_type": "code",
      "source": "array1 = np.random.rand(6)\narray2 = np.random.rand(6)\n\nprint(\"First array\", array1) \nprint(\"Second array\", array2)\n\nadding_arrays = array1 + array2\nsubtraction_arrays = array1 - array2\nmultiplication_arrays = array1 * array2\n\nprint(\"\\nAdding:\", adding_arrays)\nprint(\"\\nSubtraction:\", subtraction_arrays)\nprint(\"\\nMultiplication:\", multiplication_arrays)",
      "metadata": {
        "trusted": true
      },
      "execution_count": 15,
      "outputs": [
        {
          "name": "stdout",
          "text": "First array [0.83676369 0.16751767 0.84089825 0.03912263 0.28477333 0.86554752]\nSecond array [0.79955081 0.95793798 0.57620062 0.0940046  0.46784605 0.95407852]\n\nAdding: [1.6363145  1.12545565 1.41709887 0.13312723 0.75261938 1.81962603]\n\nSubtraction: [ 0.03721287 -0.79042031  0.26469763 -0.05488197 -0.18307272 -0.088531  ]\n\nMultiplication: [0.66903509 0.16047154 0.48452609 0.00367771 0.13323008 0.82580029]\n",
          "output_type": "stream"
        }
      ]
    },
    {
      "cell_type": "raw",
      "source": "6. Створіть два вектори розміром 8, заповніть їх довільними цілими числами та знайдіть їх скалярний добуток.",
      "metadata": {}
    },
    {
      "cell_type": "code",
      "source": "vector1 = np.array([1, 3, 5, 7, 9, 11, 13, 15])\nvector2 = np.array([2, 4, 6, 8, 10, 12, 14, 16])\n\nscalar_product = np.dot(vector1, vector2)\n\nprint(scalar_product)",
      "metadata": {
        "trusted": true
      },
      "execution_count": 16,
      "outputs": [
        {
          "name": "stdout",
          "text": "744\n",
          "output_type": "stream"
        }
      ]
    },
    {
      "cell_type": "raw",
      "source": "7. Створіть дві матриці розміром 3x2 та 2x4, заповніть їх випадковими цілими числами в діапазоні від 1 до 20 та перемножте їх між собою.",
      "metadata": {}
    },
    {
      "cell_type": "code",
      "source": "matrix1 = np.random.randint(1, 21, (3, 2))\nmatrix2 = np.random.randint(1, 21, (2, 4))\n\nmultiplication_matrix = np.dot(matrix1, matrix2)\n\nprint(\"Matrix1:\\n\", matrix1)\nprint(\"\\nMatrix2: \\n\", matrix2)\nprint(\"\\nMultiplication: \\n\", multiplication_matrix)",
      "metadata": {
        "trusted": true
      },
      "execution_count": 17,
      "outputs": [
        {
          "name": "stdout",
          "text": "Matrix1:\n [[17  8]\n [ 3  6]\n [ 5 15]]\n\nMatrix2: \n [[10  2 10 17]\n [18  7  9 13]]\n\nMultiplication: \n [[314  90 242 393]\n [138  48  84 129]\n [320 115 185 280]]\n",
          "output_type": "stream"
        }
      ]
    },
    {
      "cell_type": "raw",
      "source": "8. Створіть матрицю розміром 2x2, заповніть її випадковими цілими числами в діапазоні від 1 до 8 та знайдіть її обернену матрицю.",
      "metadata": {}
    },
    {
      "cell_type": "code",
      "source": "matrix = np.random.randint(1, 9, (2, 2))\nprint(\"Matrix: \\n\", matrix)\n\ninverse_matrix = np.linalg.inv(matrix)\nprint(\"\\nInverse matrix: \\n\", inverse_matrix)",
      "metadata": {
        "trusted": true
      },
      "execution_count": 18,
      "outputs": [
        {
          "name": "stdout",
          "text": "Matrix: \n [[7 7]\n [7 2]]\n\nInverse matrix: \n [[-0.05714286  0.2       ]\n [ 0.2        -0.2       ]]\n",
          "output_type": "stream"
        }
      ]
    },
    {
      "cell_type": "raw",
      "source": "9. Створіть матрицю розміром 3x3, заповніть її випадковими цілими числами в діапазоні від 0 до 1 та транспонуйте її.",
      "metadata": {}
    },
    {
      "cell_type": "code",
      "source": "matrix = np.random.randint(0, 2, (3, 3))\nprint(\"Matrix: \\n\", matrix)\n\ntransp_matrix = np.transpose(matrix)\nprint(\"\\nTransparent matrix: \\n\", transp_matrix)\n",
      "metadata": {
        "trusted": true
      },
      "execution_count": 19,
      "outputs": [
        {
          "name": "stdout",
          "text": "Matrix: \n [[1 0 1]\n [0 0 0]\n [1 1 1]]\n\nTransparent matrix: \n [[1 0 1]\n [0 0 1]\n [1 0 1]]\n",
          "output_type": "stream"
        }
      ]
    },
    {
      "cell_type": "raw",
      "source": "10. Створіть матрицю розміром 3x4 та вектор розміром 4, заповніть матрицю випадковими дійсними числами від 0 до 1, а вектор - випадковими цілими числами в діапазоні від 1 до 10, і знайдіть добуток матриці на вектор.",
      "metadata": {}
    },
    {
      "cell_type": "code",
      "source": "matrix = np.random.rand(3, 4)\nvector = np.random.randint(1, 11, size = 4)\nprint(\"Matrix:\\n\", matrix)\nprint(\"\\nVector:\\n\", vector)\n\nresult = np.dot(matrix, vector)\nprint(\"\\nResult of multiplication:\\n\", result)",
      "metadata": {
        "trusted": true
      },
      "execution_count": 20,
      "outputs": [
        {
          "name": "stdout",
          "text": "Matrix:\n [[0.46198561 0.78065547 0.4884487  0.63923616]\n [0.33089017 0.62338013 0.91670829 0.42902268]\n [0.94629084 0.68688727 0.96494219 0.64787708]]\n\nVector:\n [6 5 4 4]\n\nResult of multiplication:\n [11.18593046 10.48516553 15.56345845]\n",
          "output_type": "stream"
        }
      ]
    },
    {
      "cell_type": "raw",
      "source": "11. Створіть матрицю розміром 2x3 та вектор розміром 3, заповніть матрицю випадковими цілими числами в діапазоні від 1 до 10, а вектор - випадковими цілими числами в діапазоні від 1 до 10, і знайдіть суму елементів матриці, які більше середнього значення вектору.",
      "metadata": {}
    },
    {
      "cell_type": "code",
      "source": "matrix = np.random.randint(1, 11, (2, 3))\nvector = np.random.randint(1, 11, size = 3)\nprint(\"Matrix:\\n\", matrix)\nprint(\"\\nVector:\\n\", vector)\n\nmean_vector = np.mean(vector)\nprint(\"\\nMean value of the vector:\\n\", mean_vector)\n\nelems = matrix[matrix > mean_vector]\nprint(\"\\nElements bigger than mean of vector:\\n\", elems)\n\nsum_of_elems = np.sum(elems)\nprint(\"\\nSum of elements bigger than mean of vector:\\n\", sum_of_elems)",
      "metadata": {
        "trusted": true
      },
      "execution_count": 21,
      "outputs": [
        {
          "name": "stdout",
          "text": "Matrix:\n [[9 5 3]\n [6 3 2]]\n\nVector:\n [5 8 3]\n\nMean value of the vector:\n 5.333333333333333\n\nElements bigger than mean of vector:\n [9 6]\n\nSum of elements bigger than mean of vector:\n 15\n",
          "output_type": "stream"
        }
      ]
    },
    {
      "cell_type": "raw",
      "source": "12. Створіть дві матриці розміром 2x2, заповніть їх випадковими цілими числами в діапазоні від 1 до 10 та знайдіть суму елементів діагоналі першої матриці.",
      "metadata": {}
    },
    {
      "cell_type": "code",
      "source": "matrix1 = np.random.randint(1, 11, (2, 2))\nmatrix2 = np.random.randint(1, 11, (2, 2))\n\nprint(\"Matrix 1:\\n\", matrix1)\n\nsum_of_diagonal = np.trace(matrix1)\n\nprint(\"\\nThe sum of the elements of the diagonal of the first matrix:\", sum_of_diagonal)",
      "metadata": {
        "trusted": true
      },
      "execution_count": 22,
      "outputs": [
        {
          "name": "stdout",
          "text": "Matrix 1:\n [[ 9  7]\n [10  8]]\n\nThe sum of the elements of the diagonal of the first matrix: 17\n",
          "output_type": "stream"
        }
      ]
    },
    {
      "cell_type": "raw",
      "source": "13. Створіть дві матриці розміром 9x9, заповніть їх випадковими дійсними числами в діапазоні від 0 до 1 та знайдіть суму їх елементів.",
      "metadata": {}
    },
    {
      "cell_type": "code",
      "source": "matrix1 = np.random.rand(9, 9)\nmatrix2 = np.random.rand(9, 9)\n\nprint(\"Matrix 1:\\n\", matrix1)\nprint(\"\\nMatrix 2:\\n\", matrix2)\n\nsum_of_elems = matrix1 + matrix2\nprint(\"\\nSum of the elements:\\n\", sum_of_elems)",
      "metadata": {
        "trusted": true
      },
      "execution_count": 26,
      "outputs": [
        {
          "name": "stdout",
          "text": "Matrix 1:\n [[0.57321278 0.68668209 0.73859077 0.13857288 0.83508415 0.21104885\n  0.67279995 0.10645234 0.88058433]\n [0.46210814 0.75168775 0.14330675 0.71083471 0.13677054 0.9639331\n  0.96607196 0.17226537 0.90655043]\n [0.99116761 0.12188785 0.68834575 0.86224114 0.65518422 0.71549283\n  0.90790339 0.45983681 0.68405066]\n [0.2926716  0.67812853 0.83448158 0.68811034 0.32971491 0.45131643\n  0.87350562 0.33942418 0.94397047]\n [0.64691789 0.79068225 0.58346601 0.20233372 0.6284452  0.90138853\n  0.02967527 0.04023748 0.87371981]\n [0.72792672 0.95605193 0.34706829 0.85879862 0.78434623 0.01054808\n  0.59835269 0.65748307 0.46034196]\n [0.92765845 0.59008868 0.27178275 0.66811116 0.43106904 0.67028747\n  0.03276367 0.96307958 0.94731691]\n [0.61930458 0.88826026 0.01115495 0.7724906  0.83532103 0.24438377\n  0.72602791 0.09216999 0.91275933]\n [0.72671934 0.96907733 0.04324233 0.26180104 0.63718158 0.2492675\n  0.26146856 0.19087923 0.94092171]]\n\nMatrix 2:\n [[3.84878779e-01 6.46766208e-01 3.31706364e-01 3.22184659e-01\n  8.65177058e-01 8.27162133e-01 6.16778046e-02 5.30895639e-01\n  7.63615290e-01]\n [5.29926624e-01 5.02235539e-02 9.78259014e-01 9.94249777e-01\n  2.37410561e-01 5.44601067e-01 1.34801930e-01 5.94307645e-01\n  4.28600767e-01]\n [6.93339890e-01 7.88306959e-01 6.95676251e-01 4.93767377e-01\n  5.20186886e-01 1.97550627e-01 6.45190295e-01 5.98468796e-01\n  1.79506492e-01]\n [5.26908478e-01 4.16035921e-01 1.78799394e-01 1.57982236e-01\n  6.42452621e-01 6.36216801e-01 3.06411855e-01 4.64739883e-01\n  8.21416072e-01]\n [1.84043241e-01 3.90168622e-01 9.31894456e-01 5.13227710e-01\n  4.13018131e-01 1.99043352e-01 6.68687068e-01 5.23442004e-01\n  3.63283151e-02]\n [4.79911380e-01 9.31832449e-01 1.13250794e-01 6.92130461e-01\n  9.13808725e-01 2.55141908e-02 7.65006919e-01 4.56520710e-02\n  8.43567244e-01]\n [7.46320995e-01 5.38891661e-04 5.11413786e-01 1.09384112e-01\n  9.94002976e-01 9.23615950e-01 2.78050899e-01 9.22704797e-01\n  6.50421981e-01]\n [3.68105431e-01 1.23461097e-01 4.51331263e-01 8.45986890e-01\n  8.84306843e-01 6.00575452e-01 7.28151290e-01 2.80367107e-01\n  2.30565971e-01]\n [3.35912821e-01 1.64675637e-01 4.33695171e-01 7.55986773e-01\n  3.09518389e-01 1.39413379e-01 3.20328896e-01 9.75417608e-02\n  5.11309830e-02]]\n\nSum of the elements:\n [[0.95809156 1.33344829 1.07029714 0.46075754 1.70026121 1.03821099\n  0.73447776 0.63734798 1.64419962]\n [0.99203476 0.8019113  1.12156576 1.70508449 0.3741811  1.50853417\n  1.10087389 0.76657301 1.3351512 ]\n [1.6845075  0.91019481 1.384022   1.35600852 1.17537111 0.91304345\n  1.55309368 1.05830561 0.86355715]\n [0.81958008 1.09416445 1.01328097 0.84609258 0.97216753 1.08753323\n  1.17991747 0.80416407 1.76538655]\n [0.83096113 1.18085087 1.51536047 0.71556143 1.04146333 1.10043189\n  0.69836233 0.56367949 0.91004813]\n [1.2078381  1.88788438 0.46031909 1.55092908 1.69815495 0.03606227\n  1.36335961 0.70313514 1.3039092 ]\n [1.67397944 0.59062757 0.78319653 0.77749528 1.42507202 1.59390342\n  0.31081457 1.88578438 1.59773889]\n [0.98741001 1.01172136 0.46248621 1.61847749 1.71962787 0.84495922\n  1.4541792  0.37253709 1.1433253 ]\n [1.06263216 1.13375297 0.4769375  1.01778781 0.94669997 0.38868088\n  0.58179746 0.28842099 0.9920527 ]]\n",
          "output_type": "stream"
        }
      ]
    },
    {
      "cell_type": "raw",
      "source": "14. Створіть матрицю розміром 9x9, заповніть її випадковими дійсними числами в діапазоні від -10 до 10 та знайдіть середнє геометричне значення елементів матриці.",
      "metadata": {}
    },
    {
      "cell_type": "code",
      "source": "matrix = np.random.uniform(-10, 10, (9, 9))\nprint(\"Matrix:\\n\", matrix)\n\ngeometric_mean = np.prod(matrix) ** (1 / np.size(matrix))\nprint(\"\\nGeometric mean of all elements of matrix:\\n\", geometric_mean)",
      "metadata": {
        "trusted": true
      },
      "execution_count": 27,
      "outputs": [
        {
          "name": "stdout",
          "text": "Matrix:\n [[ 0.72305574  2.38152415 -9.70163324 -4.52486974 -7.46055726 -3.41605179\n  -7.84551645 -8.45724841 -7.98937532]\n [ 4.46455508  9.32622658 -1.95124403 -3.18717141 -4.1600607   9.53492317\n   2.99670041 -6.94777355  2.03549196]\n [ 6.82774425  7.95652378  5.21748282 -4.7177697  -1.20319866 -5.74289152\n   6.27215532 -5.10942122  9.94101715]\n [ 1.49297619  9.97272656  3.49124625 -8.59212629 -5.07166313 -0.81491809\n  -5.8889984  -8.59966159  6.54968531]\n [ 3.87027445  2.46447877 -8.6497328   1.01196606 -0.65476394  9.93912469\n   7.80565906 -3.85221472 -3.96378006]\n [-3.90451377 -0.44476676  7.31337097  7.56071095 -6.55073632 -4.74443246\n  -8.19957555  6.71113841  8.53488005]\n [-6.60579962 -5.21653074 -2.2259888   1.64796744  6.78909505 -3.36386864\n   1.6137316  -2.14278487 -8.18976598]\n [ 4.53631917 -5.51031289  5.81257599 -5.79719553 -8.38553404 -9.48324748\n  -9.8694855   6.65002295 -8.42719247]\n [-8.71434538  1.05857993 -5.3760313   4.95325245 -0.3333744   5.86046221\n   0.41258802 -0.48207226 -2.33924242]]\n\nGeometric mean of all elements of matrix:\n 4.106572141451617\n",
          "output_type": "stream"
        }
      ]
    },
    {
      "cell_type": "raw",
      "source": "15. Створіть матрицю розміром 3x3, заповніть її випадковими дійсними числами в діапазоні від 0 до 1 та знайдіть вектор-стовпчик, що містить кількість додатних елементів в кожному рядку матриці.",
      "metadata": {}
    },
    {
      "cell_type": "code",
      "source": "matrix = np.random.rand(3, 3)\nprint(\"Matrix:\\n\", matrix)\n\npositive_elems = np.sum(matrix > 0, axis = 1)\nprint(\"\\nVector of positive elements of each row in matrix:\\n\", positive_elems)",
      "metadata": {
        "trusted": true
      },
      "execution_count": 25,
      "outputs": [
        {
          "name": "stdout",
          "text": "Matrix:\n [[0.64495988 0.70486046 0.17105582]\n [0.48876335 0.18432745 0.30141565]\n [0.75410432 0.86346428 0.64428804]]\n\nVector of positive elements of each row in matrix:\n [3 3 3]\n",
          "output_type": "stream"
        }
      ]
    },
    {
      "cell_type": "raw",
      "source": "На практичній роботі я навчився створювати одновимірні, двовимірні матриці та вектори з різними типами чисел. Навчився додавати, віднімати перемножувати матриці, а також матрицю з вектором. Також навився транспонувати матрицю, знаходити середнє геометричне матриці та обернену матрицю. Освоїв навички знаходження середнього гармонічного елементів матриці.",
      "metadata": {}
    }
  ]
}